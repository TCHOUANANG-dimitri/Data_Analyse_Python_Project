{
 "cells": [
  {
   "cell_type": "markdown",
   "id": "9fe46378",
   "metadata": {},
   "source": [
    "<h1>PROJET : ANALYSE DES DONNÉES DU COVID-19 (2020)</h1>"
   ]
  },
  {
   "cell_type": "markdown",
   "id": "ae42776c",
   "metadata": {},
   "source": [
    "<h2>voici les questions aux quelles nous devrons repondre dans le cadre de notre travail:</h2>\n",
    "<ul>\n",
    "<li>quels sont les pays avec le plus grand nombres de cas?</li>\n",
    "<li>quels sont les pays avec un taux de mortalité élevé?</li>\n",
    "<li>faire une evaluation comparative des situations de chaque continents</li>\n",
    "<li>comment evalue le nombre de deces et de cas dans chaque pays dans l'année? </li>\n",
    "<li>y'a t'il une relation directe entre la population d'un pays et le nombre de cas recensé?</li>\n",
    "</ul>"
   ]
  },
  {
   "cell_type": "code",
   "execution_count": 1,
   "id": "22eda490",
   "metadata": {},
   "outputs": [],
   "source": [
    "import numpy as np\n",
    "import pandas as pd\n",
    "import matplotlib.pyplot as plt\n",
    "import seaborn as sns"
   ]
  },
  {
   "cell_type": "code",
   "execution_count": 2,
   "id": "3e34f36b",
   "metadata": {},
   "outputs": [
    {
     "data": {
      "text/html": [
       "<div>\n",
       "<style scoped>\n",
       "    .dataframe tbody tr th:only-of-type {\n",
       "        vertical-align: middle;\n",
       "    }\n",
       "\n",
       "    .dataframe tbody tr th {\n",
       "        vertical-align: top;\n",
       "    }\n",
       "\n",
       "    .dataframe thead th {\n",
       "        text-align: right;\n",
       "    }\n",
       "</style>\n",
       "<table border=\"1\" class=\"dataframe\">\n",
       "  <thead>\n",
       "    <tr style=\"text-align: right;\">\n",
       "      <th></th>\n",
       "      <th>dateRep</th>\n",
       "      <th>day</th>\n",
       "      <th>month</th>\n",
       "      <th>year</th>\n",
       "      <th>cases</th>\n",
       "      <th>deaths</th>\n",
       "      <th>countriesAndTerritories</th>\n",
       "      <th>geoId</th>\n",
       "      <th>countryterritoryCode</th>\n",
       "      <th>popData2019</th>\n",
       "      <th>continentExp</th>\n",
       "      <th>Cumulative_number_for_14_days_of_COVID-19_cases_per_100000</th>\n",
       "    </tr>\n",
       "  </thead>\n",
       "  <tbody>\n",
       "    <tr>\n",
       "      <th>0</th>\n",
       "      <td>1212122020年12月14日</td>\n",
       "      <td>14</td>\n",
       "      <td>12</td>\n",
       "      <td>2020</td>\n",
       "      <td>746</td>\n",
       "      <td>6</td>\n",
       "      <td>Afghanistan</td>\n",
       "      <td>AF</td>\n",
       "      <td>AFG</td>\n",
       "      <td>38041757.0</td>\n",
       "      <td>Asia</td>\n",
       "      <td>9.013779</td>\n",
       "    </tr>\n",
       "    <tr>\n",
       "      <th>1</th>\n",
       "      <td>1212122020年12月13日</td>\n",
       "      <td>13</td>\n",
       "      <td>12</td>\n",
       "      <td>2020</td>\n",
       "      <td>298</td>\n",
       "      <td>9</td>\n",
       "      <td>Afghanistan</td>\n",
       "      <td>AF</td>\n",
       "      <td>AFG</td>\n",
       "      <td>38041757.0</td>\n",
       "      <td>Asia</td>\n",
       "      <td>7.052776</td>\n",
       "    </tr>\n",
       "    <tr>\n",
       "      <th>2</th>\n",
       "      <td>1212122020年12月12日</td>\n",
       "      <td>12</td>\n",
       "      <td>12</td>\n",
       "      <td>2020</td>\n",
       "      <td>113</td>\n",
       "      <td>11</td>\n",
       "      <td>Afghanistan</td>\n",
       "      <td>AF</td>\n",
       "      <td>AFG</td>\n",
       "      <td>38041757.0</td>\n",
       "      <td>Asia</td>\n",
       "      <td>6.868768</td>\n",
       "    </tr>\n",
       "    <tr>\n",
       "      <th>3</th>\n",
       "      <td>1212122020年12月11日</td>\n",
       "      <td>11</td>\n",
       "      <td>12</td>\n",
       "      <td>2020</td>\n",
       "      <td>63</td>\n",
       "      <td>10</td>\n",
       "      <td>Afghanistan</td>\n",
       "      <td>AF</td>\n",
       "      <td>AFG</td>\n",
       "      <td>38041757.0</td>\n",
       "      <td>Asia</td>\n",
       "      <td>7.134266</td>\n",
       "    </tr>\n",
       "    <tr>\n",
       "      <th>4</th>\n",
       "      <td>1212122020年12月10日</td>\n",
       "      <td>10</td>\n",
       "      <td>12</td>\n",
       "      <td>2020</td>\n",
       "      <td>202</td>\n",
       "      <td>16</td>\n",
       "      <td>Afghanistan</td>\n",
       "      <td>AF</td>\n",
       "      <td>AFG</td>\n",
       "      <td>38041757.0</td>\n",
       "      <td>Asia</td>\n",
       "      <td>6.968658</td>\n",
       "    </tr>\n",
       "  </tbody>\n",
       "</table>\n",
       "</div>"
      ],
      "text/plain": [
       "             dateRep  day  month  year  cases  deaths countriesAndTerritories  \\\n",
       "0  1212122020年12月14日   14     12  2020    746       6             Afghanistan   \n",
       "1  1212122020年12月13日   13     12  2020    298       9             Afghanistan   \n",
       "2  1212122020年12月12日   12     12  2020    113      11             Afghanistan   \n",
       "3  1212122020年12月11日   11     12  2020     63      10             Afghanistan   \n",
       "4  1212122020年12月10日   10     12  2020    202      16             Afghanistan   \n",
       "\n",
       "  geoId countryterritoryCode  popData2019 continentExp  \\\n",
       "0    AF                  AFG   38041757.0         Asia   \n",
       "1    AF                  AFG   38041757.0         Asia   \n",
       "2    AF                  AFG   38041757.0         Asia   \n",
       "3    AF                  AFG   38041757.0         Asia   \n",
       "4    AF                  AFG   38041757.0         Asia   \n",
       "\n",
       "   Cumulative_number_for_14_days_of_COVID-19_cases_per_100000  \n",
       "0                                           9.013779           \n",
       "1                                           7.052776           \n",
       "2                                           6.868768           \n",
       "3                                           7.134266           \n",
       "4                                           6.968658           "
      ]
     },
     "execution_count": 2,
     "metadata": {},
     "output_type": "execute_result"
    }
   ],
   "source": [
    "data=pd.read_csv(\"COVID-19-geographic-disbtribution-worldwide-2020-12-14-_2_.csv\")\n",
    "data.head()"
   ]
  },
  {
   "cell_type": "code",
   "execution_count": 3,
   "id": "48ea2004",
   "metadata": {},
   "outputs": [
    {
     "data": {
      "text/plain": [
       "(61900, 12)"
      ]
     },
     "execution_count": 3,
     "metadata": {},
     "output_type": "execute_result"
    }
   ],
   "source": [
    "data.shape"
   ]
  },
  {
   "cell_type": "markdown",
   "id": "970ca633",
   "metadata": {},
   "source": [
    "<p>Notre dataset a donc 61900 lignes pour 12 colonnes</p>"
   ]
  },
  {
   "cell_type": "code",
   "execution_count": 4,
   "id": "ca098751",
   "metadata": {},
   "outputs": [
    {
     "name": "stdout",
     "output_type": "stream",
     "text": [
      "countriesAndTerritories\n",
      "South_Korea                                   350\n",
      "Sweden                                        350\n",
      "China                                         350\n",
      "Mexico                                        350\n",
      "Canada                                        350\n",
      "                                             ... \n",
      "Cases_on_an_international_conveyance_Japan     64\n",
      "Solomon_Islands                                60\n",
      "Wallis_and_Futuna                              59\n",
      "Marshall_Islands                               47\n",
      "Vanuatu                                        34\n",
      "Name: count, Length: 214, dtype: int64\n",
      "continentExp\n",
      "Europe     17372\n",
      "Africa     14981\n",
      "America    13742\n",
      "Asia       13241\n",
      "Oceania     2500\n",
      "Other         64\n",
      "Name: count, dtype: int64\n"
     ]
    }
   ],
   "source": [
    "print(data[\"countriesAndTerritories\"].value_counts())\n",
    "print(data[\"continentExp\"].value_counts())"
   ]
  },
  {
   "cell_type": "markdown",
   "id": "848b4282",
   "metadata": {},
   "source": [
    "nous avons donc 214 pays et 6 continents"
   ]
  },
  {
   "cell_type": "code",
   "execution_count": 5,
   "id": "61120651",
   "metadata": {},
   "outputs": [],
   "source": [
    "data.rename(columns={\"Cumulative_number_for_14_days_of_COVID-19_cases_per_100000\":\"Cumulative\"},inplace=True)"
   ]
  },
  {
   "cell_type": "markdown",
   "id": "98f414fd",
   "metadata": {},
   "source": [
    "<p> verifions s'il y'a des <b>valeurs manquantes</b> et décomptons les.</p>"
   ]
  },
  {
   "cell_type": "code",
   "execution_count": 6,
   "id": "64e286d7",
   "metadata": {},
   "outputs": [
    {
     "name": "stdout",
     "output_type": "stream",
     "text": [
      "<class 'pandas.core.frame.DataFrame'>\n",
      "RangeIndex: 61900 entries, 0 to 61899\n",
      "Data columns (total 12 columns):\n",
      " #   Column                   Non-Null Count  Dtype  \n",
      "---  ------                   --------------  -----  \n",
      " 0   dateRep                  61900 non-null  object \n",
      " 1   day                      61900 non-null  int64  \n",
      " 2   month                    61900 non-null  int64  \n",
      " 3   year                     61900 non-null  int64  \n",
      " 4   cases                    61900 non-null  int64  \n",
      " 5   deaths                   61900 non-null  int64  \n",
      " 6   countriesAndTerritories  61900 non-null  object \n",
      " 7   geoId                    61625 non-null  object \n",
      " 8   countryterritoryCode     61777 non-null  object \n",
      " 9   popData2019              61777 non-null  float64\n",
      " 10  continentExp             61900 non-null  object \n",
      " 11  Cumulative               59021 non-null  float64\n",
      "dtypes: float64(2), int64(5), object(5)\n",
      "memory usage: 5.7+ MB\n"
     ]
    }
   ],
   "source": [
    "data.info()"
   ]
  },
  {
   "cell_type": "code",
   "execution_count": 7,
   "id": "0712ea83",
   "metadata": {},
   "outputs": [
    {
     "data": {
      "text/plain": [
       "dateRep                       0\n",
       "day                           0\n",
       "month                         0\n",
       "year                          0\n",
       "cases                         0\n",
       "deaths                        0\n",
       "countriesAndTerritories       0\n",
       "geoId                       275\n",
       "countryterritoryCode        123\n",
       "popData2019                 123\n",
       "continentExp                  0\n",
       "Cumulative                 2879\n",
       "dtype: int64"
      ]
     },
     "execution_count": 7,
     "metadata": {},
     "output_type": "execute_result"
    }
   ],
   "source": [
    "np.sum(data.isnull())"
   ]
  },
  {
   "cell_type": "markdown",
   "id": "4b8e73a8",
   "metadata": {},
   "source": [
    "<p>On a donc des valeurs manquantes au niveau des colonnes:</p>\n",
    "<ul>\n",
    "<li>geoId (l'identifiant geaographique)</li>\n",
    "<li>countryterritoryCode (le nom du pays ou de la région)</li>\n",
    "<li>popData2019 (la population estimé en 2019)</li>\n",
    "<li>Cumulative (le nombre de cas cumulé les 14 derniers jours pour 100000 habitants)</li>\n",
    "</ul>"
   ]
  },
  {
   "cell_type": "markdown",
   "id": "3b31da39",
   "metadata": {},
   "source": [
    "<h3>Gestion des valeurs manquantes</h3>"
   ]
  },
  {
   "cell_type": "markdown",
   "id": "f07b4c6f",
   "metadata": {},
   "source": [
    "<p> Étant donner qu'ici,les donnees sont triées par ordre alphabétique de pays et par ordre chronologique, pour un remplacage efficace des valeurs manquantes on peut procéder a un <b>forward fill</b> pour chacune de ces colonnes.</p>"
   ]
  },
  {
   "cell_type": "code",
   "execution_count": 8,
   "id": "4c828b33",
   "metadata": {},
   "outputs": [
    {
     "data": {
      "text/plain": [
       "dateRep                    0\n",
       "day                        0\n",
       "month                      0\n",
       "year                       0\n",
       "cases                      0\n",
       "deaths                     0\n",
       "countriesAndTerritories    0\n",
       "geoId                      0\n",
       "countryterritoryCode       0\n",
       "popData2019                0\n",
       "continentExp               0\n",
       "Cumulative                 0\n",
       "dtype: int64"
      ]
     },
     "execution_count": 8,
     "metadata": {},
     "output_type": "execute_result"
    }
   ],
   "source": [
    "data[\"geoId\"]= data[\"geoId\"].fillna(method=\"ffill\")\n",
    "\n",
    "data[\"countryterritoryCode\"]= data[\"countryterritoryCode\"].fillna(method=\"ffill\")\n",
    "\n",
    "data[\"popData2019\"]= data[\"popData2019\"].fillna(method=\"ffill\")\n",
    "\n",
    "data[\"Cumulative\"]= data[\"Cumulative\"].fillna(method=\"ffill\")\n",
    "\n",
    "np.sum(data.isnull())"
   ]
  },
  {
   "cell_type": "code",
   "execution_count": 9,
   "id": "f712758c",
   "metadata": {},
   "outputs": [
    {
     "data": {
      "text/html": [
       "<div>\n",
       "<style scoped>\n",
       "    .dataframe tbody tr th:only-of-type {\n",
       "        vertical-align: middle;\n",
       "    }\n",
       "\n",
       "    .dataframe tbody tr th {\n",
       "        vertical-align: top;\n",
       "    }\n",
       "\n",
       "    .dataframe thead th {\n",
       "        text-align: right;\n",
       "    }\n",
       "</style>\n",
       "<table border=\"1\" class=\"dataframe\">\n",
       "  <thead>\n",
       "    <tr style=\"text-align: right;\">\n",
       "      <th></th>\n",
       "      <th>dateRep</th>\n",
       "      <th>day</th>\n",
       "      <th>month</th>\n",
       "      <th>year</th>\n",
       "      <th>cases</th>\n",
       "      <th>deaths</th>\n",
       "      <th>countriesAndTerritories</th>\n",
       "      <th>geoId</th>\n",
       "      <th>countryterritoryCode</th>\n",
       "      <th>popData2019</th>\n",
       "      <th>continentExp</th>\n",
       "      <th>Cumulative</th>\n",
       "    </tr>\n",
       "  </thead>\n",
       "  <tbody>\n",
       "    <tr>\n",
       "      <th>25662</th>\n",
       "      <td>1212122020年9月3日</td>\n",
       "      <td>3</td>\n",
       "      <td>9</td>\n",
       "      <td>2020</td>\n",
       "      <td>0</td>\n",
       "      <td>0</td>\n",
       "      <td>Holy_See</td>\n",
       "      <td>VA</td>\n",
       "      <td>VAT</td>\n",
       "      <td>815.0</td>\n",
       "      <td>Europe</td>\n",
       "      <td>0.000000</td>\n",
       "    </tr>\n",
       "    <tr>\n",
       "      <th>29678</th>\n",
       "      <td>1212122020年4月29日</td>\n",
       "      <td>29</td>\n",
       "      <td>4</td>\n",
       "      <td>2020</td>\n",
       "      <td>17</td>\n",
       "      <td>0</td>\n",
       "      <td>Jamaica</td>\n",
       "      <td>JM</td>\n",
       "      <td>JAM</td>\n",
       "      <td>2948277.0</td>\n",
       "      <td>America</td>\n",
       "      <td>9.361400</td>\n",
       "    </tr>\n",
       "    <tr>\n",
       "      <th>28864</th>\n",
       "      <td>1212122020年8月24日</td>\n",
       "      <td>24</td>\n",
       "      <td>8</td>\n",
       "      <td>2020</td>\n",
       "      <td>1071</td>\n",
       "      <td>15</td>\n",
       "      <td>Israel</td>\n",
       "      <td>IL</td>\n",
       "      <td>ISR</td>\n",
       "      <td>8519373.0</td>\n",
       "      <td>Asia</td>\n",
       "      <td>236.508015</td>\n",
       "    </tr>\n",
       "    <tr>\n",
       "      <th>21097</th>\n",
       "      <td>1212122020年8月24日</td>\n",
       "      <td>24</td>\n",
       "      <td>8</td>\n",
       "      <td>2020</td>\n",
       "      <td>0</td>\n",
       "      <td>0</td>\n",
       "      <td>Gabon</td>\n",
       "      <td>GA</td>\n",
       "      <td>GAB</td>\n",
       "      <td>2172578.0</td>\n",
       "      <td>Africa</td>\n",
       "      <td>21.403144</td>\n",
       "    </tr>\n",
       "    <tr>\n",
       "      <th>36205</th>\n",
       "      <td>1212122020年8月26日</td>\n",
       "      <td>26</td>\n",
       "      <td>8</td>\n",
       "      <td>2020</td>\n",
       "      <td>46</td>\n",
       "      <td>0</td>\n",
       "      <td>Malta</td>\n",
       "      <td>MT</td>\n",
       "      <td>MLT</td>\n",
       "      <td>493559.0</td>\n",
       "      <td>Europe</td>\n",
       "      <td>135.343495</td>\n",
       "    </tr>\n",
       "    <tr>\n",
       "      <th>905</th>\n",
       "      <td>1212122020年2月29日</td>\n",
       "      <td>29</td>\n",
       "      <td>2</td>\n",
       "      <td>2020</td>\n",
       "      <td>0</td>\n",
       "      <td>0</td>\n",
       "      <td>Algeria</td>\n",
       "      <td>DZ</td>\n",
       "      <td>DZA</td>\n",
       "      <td>43053054.0</td>\n",
       "      <td>Africa</td>\n",
       "      <td>0.002323</td>\n",
       "    </tr>\n",
       "    <tr>\n",
       "      <th>50268</th>\n",
       "      <td>1212122020年5月27日</td>\n",
       "      <td>27</td>\n",
       "      <td>5</td>\n",
       "      <td>2020</td>\n",
       "      <td>19</td>\n",
       "      <td>2</td>\n",
       "      <td>Sierra_Leone</td>\n",
       "      <td>SL</td>\n",
       "      <td>SLE</td>\n",
       "      <td>7813207.0</td>\n",
       "      <td>Africa</td>\n",
       "      <td>5.324318</td>\n",
       "    </tr>\n",
       "    <tr>\n",
       "      <th>49682</th>\n",
       "      <td>1212122020年6月27日</td>\n",
       "      <td>27</td>\n",
       "      <td>6</td>\n",
       "      <td>2020</td>\n",
       "      <td>193</td>\n",
       "      <td>1</td>\n",
       "      <td>Serbia</td>\n",
       "      <td>RS</td>\n",
       "      <td>SRB</td>\n",
       "      <td>6963764.0</td>\n",
       "      <td>Europe</td>\n",
       "      <td>19.960470</td>\n",
       "    </tr>\n",
       "    <tr>\n",
       "      <th>16907</th>\n",
       "      <td>1212122020年9月6日</td>\n",
       "      <td>6</td>\n",
       "      <td>9</td>\n",
       "      <td>2020</td>\n",
       "      <td>870</td>\n",
       "      <td>50</td>\n",
       "      <td>Ecuador</td>\n",
       "      <td>EC</td>\n",
       "      <td>ECU</td>\n",
       "      <td>17373657.0</td>\n",
       "      <td>America</td>\n",
       "      <td>63.060989</td>\n",
       "    </tr>\n",
       "    <tr>\n",
       "      <th>48751</th>\n",
       "      <td>1212122020年10月22日</td>\n",
       "      <td>22</td>\n",
       "      <td>10</td>\n",
       "      <td>2020</td>\n",
       "      <td>2</td>\n",
       "      <td>0</td>\n",
       "      <td>Sao_Tome_and_Principe</td>\n",
       "      <td>ST</td>\n",
       "      <td>STP</td>\n",
       "      <td>215048.0</td>\n",
       "      <td>Africa</td>\n",
       "      <td>9.765262</td>\n",
       "    </tr>\n",
       "  </tbody>\n",
       "</table>\n",
       "</div>"
      ],
      "text/plain": [
       "                 dateRep  day  month  year  cases  deaths  \\\n",
       "25662    1212122020年9月3日    3      9  2020      0       0   \n",
       "29678   1212122020年4月29日   29      4  2020     17       0   \n",
       "28864   1212122020年8月24日   24      8  2020   1071      15   \n",
       "21097   1212122020年8月24日   24      8  2020      0       0   \n",
       "36205   1212122020年8月26日   26      8  2020     46       0   \n",
       "905     1212122020年2月29日   29      2  2020      0       0   \n",
       "50268   1212122020年5月27日   27      5  2020     19       2   \n",
       "49682   1212122020年6月27日   27      6  2020    193       1   \n",
       "16907    1212122020年9月6日    6      9  2020    870      50   \n",
       "48751  1212122020年10月22日   22     10  2020      2       0   \n",
       "\n",
       "      countriesAndTerritories geoId countryterritoryCode  popData2019  \\\n",
       "25662                Holy_See    VA                  VAT        815.0   \n",
       "29678                 Jamaica    JM                  JAM    2948277.0   \n",
       "28864                  Israel    IL                  ISR    8519373.0   \n",
       "21097                   Gabon    GA                  GAB    2172578.0   \n",
       "36205                   Malta    MT                  MLT     493559.0   \n",
       "905                   Algeria    DZ                  DZA   43053054.0   \n",
       "50268            Sierra_Leone    SL                  SLE    7813207.0   \n",
       "49682                  Serbia    RS                  SRB    6963764.0   \n",
       "16907                 Ecuador    EC                  ECU   17373657.0   \n",
       "48751   Sao_Tome_and_Principe    ST                  STP     215048.0   \n",
       "\n",
       "      continentExp  Cumulative  \n",
       "25662       Europe    0.000000  \n",
       "29678      America    9.361400  \n",
       "28864         Asia  236.508015  \n",
       "21097       Africa   21.403144  \n",
       "36205       Europe  135.343495  \n",
       "905         Africa    0.002323  \n",
       "50268       Africa    5.324318  \n",
       "49682       Europe   19.960470  \n",
       "16907      America   63.060989  \n",
       "48751       Africa    9.765262  "
      ]
     },
     "execution_count": 9,
     "metadata": {},
     "output_type": "execute_result"
    }
   ],
   "source": [
    "data.sample(10)"
   ]
  },
  {
   "cell_type": "markdown",
   "id": "6d30c372",
   "metadata": {},
   "source": [
    "<h4>Apres avoir traiter nos données, répondons aux questions suivantes</h4>\n",
    "<ol>\n",
    "    <li>quels sont les pays avec le plus grand nombres de cas?</li>\n",
    "    <li>quels sont les pays avec un taux de mortalité élevé?</li>\n",
    "</ol>"
   ]
  },
  {
   "cell_type": "markdown",
   "id": "ef7129db",
   "metadata": {},
   "source": [
    "<p>Commencons par creer une liste contenant tous les pays.</p>"
   ]
  },
  {
   "cell_type": "code",
   "execution_count": 10,
   "id": "40f31afc",
   "metadata": {},
   "outputs": [
    {
     "data": {
      "text/plain": [
       "array(['Afghanistan', 'Albania', 'Algeria', 'Andorra', 'Angola',\n",
       "       'Anguilla', 'Antigua_and_Barbuda', 'Argentina', 'Armenia', 'Aruba',\n",
       "       'Australia', 'Austria', 'Azerbaijan', 'Bahamas', 'Bahrain',\n",
       "       'Bangladesh', 'Barbados', 'Belarus', 'Belgium', 'Belize', 'Benin',\n",
       "       'Bermuda', 'Bhutan', 'Bolivia',\n",
       "       'Bonaire, Saint Eustatius and Saba', 'Bosnia_and_Herzegovina',\n",
       "       'Botswana', 'Brazil', 'British_Virgin_Islands',\n",
       "       'Brunei_Darussalam', 'Bulgaria', 'Burkina_Faso', 'Burundi',\n",
       "       'Cambodia', 'Cameroon', 'Canada', 'Cape_Verde',\n",
       "       'Cases_on_an_international_conveyance_Japan', 'Cayman_Islands',\n",
       "       'Central_African_Republic', 'Chad', 'Chile', 'China', 'Colombia',\n",
       "       'Comoros', 'Congo', 'Costa_Rica', 'Cote_dIvoire', 'Croatia',\n",
       "       'Cuba', 'CuraÃ§ao', 'Cyprus', 'Czechia',\n",
       "       'Democratic_Republic_of_the_Congo', 'Denmark', 'Djibouti',\n",
       "       'Dominica', 'Dominican_Republic', 'Ecuador', 'Egypt',\n",
       "       'El_Salvador', 'Equatorial_Guinea', 'Eritrea', 'Estonia',\n",
       "       'Eswatini', 'Ethiopia', 'Falkland_Islands_(Malvinas)',\n",
       "       'Faroe_Islands', 'Fiji', 'Finland', 'France', 'French_Polynesia',\n",
       "       'Gabon', 'Gambia', 'Georgia', 'Germany', 'Ghana', 'Gibraltar',\n",
       "       'Greece', 'Greenland', 'Grenada', 'Guam', 'Guatemala', 'Guernsey',\n",
       "       'Guinea', 'Guinea_Bissau', 'Guyana', 'Haiti', 'Holy_See',\n",
       "       'Honduras', 'Hungary', 'Iceland', 'India', 'Indonesia', 'Iran',\n",
       "       'Iraq', 'Ireland', 'Isle_of_Man', 'Israel', 'Italy', 'Jamaica',\n",
       "       'Japan', 'Jersey', 'Jordan', 'Kazakhstan', 'Kenya', 'Kosovo',\n",
       "       'Kuwait', 'Kyrgyzstan', 'Laos', 'Latvia', 'Lebanon', 'Lesotho',\n",
       "       'Liberia', 'Libya', 'Liechtenstein', 'Lithuania', 'Luxembourg',\n",
       "       'Madagascar', 'Malawi', 'Malaysia', 'Maldives', 'Mali', 'Malta',\n",
       "       'Marshall_Islands', 'Mauritania', 'Mauritius', 'Mexico', 'Moldova',\n",
       "       'Monaco', 'Mongolia', 'Montenegro', 'Montserrat', 'Morocco',\n",
       "       'Mozambique', 'Myanmar', 'Namibia', 'Nepal', 'Netherlands',\n",
       "       'New_Caledonia', 'New_Zealand', 'Nicaragua', 'Niger', 'Nigeria',\n",
       "       'North_Macedonia', 'Northern_Mariana_Islands', 'Norway', 'Oman',\n",
       "       'Pakistan', 'Palestine', 'Panama', 'Papua_New_Guinea', 'Paraguay',\n",
       "       'Peru', 'Philippines', 'Poland', 'Portugal', 'Puerto_Rico',\n",
       "       'Qatar', 'Romania', 'Russia', 'Rwanda', 'Saint_Kitts_and_Nevis',\n",
       "       'Saint_Lucia', 'Saint_Vincent_and_the_Grenadines', 'San_Marino',\n",
       "       'Sao_Tome_and_Principe', 'Saudi_Arabia', 'Senegal', 'Serbia',\n",
       "       'Seychelles', 'Sierra_Leone', 'Singapore', 'Sint_Maarten',\n",
       "       'Slovakia', 'Slovenia', 'Solomon_Islands', 'Somalia',\n",
       "       'South_Africa', 'South_Korea', 'South_Sudan', 'Spain', 'Sri_Lanka',\n",
       "       'Sudan', 'Suriname', 'Sweden', 'Switzerland', 'Syria', 'Taiwan',\n",
       "       'Tajikistan', 'Thailand', 'Timor_Leste', 'Togo',\n",
       "       'Trinidad_and_Tobago', 'Tunisia', 'Turkey',\n",
       "       'Turks_and_Caicos_islands', 'Uganda', 'Ukraine',\n",
       "       'United_Arab_Emirates', 'United_Kingdom',\n",
       "       'United_Republic_of_Tanzania', 'United_States_of_America',\n",
       "       'United_States_Virgin_Islands', 'Uruguay', 'Uzbekistan', 'Vanuatu',\n",
       "       'Venezuela', 'Vietnam', 'Wallis_and_Futuna', 'Western_Sahara',\n",
       "       'Yemen', 'Zambia', 'Zimbabwe'], dtype=object)"
      ]
     },
     "execution_count": 10,
     "metadata": {},
     "output_type": "execute_result"
    }
   ],
   "source": [
    "liste=data[\"countriesAndTerritories\"]\n",
    "liste=liste.drop_duplicates()\n",
    "liste=np.array(liste)\n",
    "liste"
   ]
  },
  {
   "cell_type": "markdown",
   "id": "301cf363",
   "metadata": {},
   "source": [
    "<p>Par la suite reduisons nous les colonnes <b>\"cases\"</b> et <b> \"countriesAndTerritories\"</b>"
   ]
  },
  {
   "cell_type": "code",
   "execution_count": 11,
   "id": "50b65575",
   "metadata": {},
   "outputs": [
    {
     "data": {
      "text/html": [
       "<div>\n",
       "<style scoped>\n",
       "    .dataframe tbody tr th:only-of-type {\n",
       "        vertical-align: middle;\n",
       "    }\n",
       "\n",
       "    .dataframe tbody tr th {\n",
       "        vertical-align: top;\n",
       "    }\n",
       "\n",
       "    .dataframe thead th {\n",
       "        text-align: right;\n",
       "    }\n",
       "</style>\n",
       "<table border=\"1\" class=\"dataframe\">\n",
       "  <thead>\n",
       "    <tr style=\"text-align: right;\">\n",
       "      <th></th>\n",
       "      <th>cases</th>\n",
       "      <th>countriesAndTerritories</th>\n",
       "    </tr>\n",
       "  </thead>\n",
       "  <tbody>\n",
       "    <tr>\n",
       "      <th>0</th>\n",
       "      <td>746</td>\n",
       "      <td>Afghanistan</td>\n",
       "    </tr>\n",
       "    <tr>\n",
       "      <th>1</th>\n",
       "      <td>298</td>\n",
       "      <td>Afghanistan</td>\n",
       "    </tr>\n",
       "    <tr>\n",
       "      <th>2</th>\n",
       "      <td>113</td>\n",
       "      <td>Afghanistan</td>\n",
       "    </tr>\n",
       "    <tr>\n",
       "      <th>3</th>\n",
       "      <td>63</td>\n",
       "      <td>Afghanistan</td>\n",
       "    </tr>\n",
       "    <tr>\n",
       "      <th>4</th>\n",
       "      <td>202</td>\n",
       "      <td>Afghanistan</td>\n",
       "    </tr>\n",
       "    <tr>\n",
       "      <th>...</th>\n",
       "      <td>...</td>\n",
       "      <td>...</td>\n",
       "    </tr>\n",
       "    <tr>\n",
       "      <th>61895</th>\n",
       "      <td>0</td>\n",
       "      <td>Zimbabwe</td>\n",
       "    </tr>\n",
       "    <tr>\n",
       "      <th>61896</th>\n",
       "      <td>0</td>\n",
       "      <td>Zimbabwe</td>\n",
       "    </tr>\n",
       "    <tr>\n",
       "      <th>61897</th>\n",
       "      <td>0</td>\n",
       "      <td>Zimbabwe</td>\n",
       "    </tr>\n",
       "    <tr>\n",
       "      <th>61898</th>\n",
       "      <td>1</td>\n",
       "      <td>Zimbabwe</td>\n",
       "    </tr>\n",
       "    <tr>\n",
       "      <th>61899</th>\n",
       "      <td>1</td>\n",
       "      <td>Zimbabwe</td>\n",
       "    </tr>\n",
       "  </tbody>\n",
       "</table>\n",
       "<p>61900 rows × 2 columns</p>\n",
       "</div>"
      ],
      "text/plain": [
       "       cases countriesAndTerritories\n",
       "0        746             Afghanistan\n",
       "1        298             Afghanistan\n",
       "2        113             Afghanistan\n",
       "3         63             Afghanistan\n",
       "4        202             Afghanistan\n",
       "...      ...                     ...\n",
       "61895      0                Zimbabwe\n",
       "61896      0                Zimbabwe\n",
       "61897      0                Zimbabwe\n",
       "61898      1                Zimbabwe\n",
       "61899      1                Zimbabwe\n",
       "\n",
       "[61900 rows x 2 columns]"
      ]
     },
     "execution_count": 11,
     "metadata": {},
     "output_type": "execute_result"
    }
   ],
   "source": [
    "data2=data[[\"cases\",\"countriesAndTerritories\"]]\n",
    "data2"
   ]
  },
  {
   "cell_type": "markdown",
   "id": "72b9e01d",
   "metadata": {},
   "source": [
    "<p>Ensuite on creer deux listes <i>nb1</i>  et <i>nb2</i> que l'on remplit avec les sommes des <b>cas</b> et des <b>deces</b> enregistrer par pays.</p> "
   ]
  },
  {
   "cell_type": "code",
   "execution_count": 12,
   "id": "eb5f17c9",
   "metadata": {},
   "outputs": [],
   "source": [
    "nb1=[]\n",
    "nb2=[]\n",
    "for i in liste:\n",
    "    condition=data2[\"countriesAndTerritories\"]==i\n",
    "    nombre1=np.sum(data[condition].cases)\n",
    "    nombre2=np.sum(data[condition].deaths)\n",
    "    nb1.append(nombre1)\n",
    "    nb2.append(nombre2)"
   ]
  },
  {
   "cell_type": "code",
   "execution_count": 13,
   "id": "5cb163bb",
   "metadata": {},
   "outputs": [
    {
     "name": "stdout",
     "output_type": "stream",
     "text": [
      "[49273, 48530, 92102, 7338, 16188, 10, 148, 1498160, 148682, 5049, 28031, 320036, 175874, 7674, 89143, 490533, 292, 160295, 608001, 9295, 3090, 431, 438, 147150, 173, 101117, 12501, 6901952, 76, 152, 179449, 4030, 729, 359, 25143, 460743, 11357, 696, 298, 4936, 1770, 571919, 92021, 1425774, 628, 6049, 150947, 21680, 175886, 9423, 3624, 15101, 581079, 14512, 109758, 5728, 87, 154692, 202110, 121575, 41880, 5185, 711, 18055, 6768, 116769, 19, 528, 46, 30810, 2376852, 15618, 9330, 3782, 191063, 1337078, 53014, 1075, 124534, 19, 69, 7106, 129282, 289, 13420, 2444, 5920, 9565, 26, 114359, 283870, 5557, 9884100, 617820, 1108269, 574634, 76185, 370, 357859, 1843712, 11710, 179653, 1779, 259614, 186277, 91892, 46580, 146218, 77674, 41, 25675, 146520, 2250, 1676, 90779, 1514, 95021, 41272, 17638, 6066, 83475, 13368, 5814, 11101, 4, 10780, 515, 1250044, 126518, 668, 912, 41426, 13, 399609, 16954, 108342, 16536, 248423, 612746, 36, 1740, 5887, 2258, 73175, 73638, 113, 40022, 126240, 440787, 124657, 193007, 725, 93582, 984973, 449400, 1135676, 348744, 107158, 140961, 556335, 2653928, 6659, 27, 275, 98, 1947, 1009, 359888, 17075, 266432, 187, 2440, 58320, 1232, 132984, 96314, 17, 4579, 860964, 43484, 3206, 1730575, 32790, 21386, 5353, 320098, 372329, 9166, 740, 12704, 4237, 31, 3251, 6879, 111361, 995471, 769, 27532, 900666, 184949, 1849403, 509, 16256754, 1807, 9708, 75094, 1, 107177, 1397, 3, 766, 2083, 18274, 11246]\n",
      "[1971, 1003, 2596, 79, 371, 0, 4, 40766, 2503, 46, 908, 4400, 1922, 163, 348, 7052, 7, 1263, 17951, 195, 44, 9, 0, 9018, 3, 3336, 37, 181402, 1, 3, 5688, 71, 1, 0, 443, 13431, 110, 7, 2, 63, 102, 15886, 4739, 39053, 7, 99, 1895, 133, 2640, 137, 11, 78, 9609, 355, 941, 61, 0, 2361, 13875, 6920, 1205, 85, 0, 149, 127, 1806, 0, 0, 2, 453, 57911, 91, 63, 123, 1839, 21975, 327, 5, 3625, 0, 0, 118, 4423, 13, 79, 44, 155, 234, 0, 2975, 7130, 28, 143355, 18819, 52196, 12579, 2124, 25, 2999, 64520, 273, 2585, 32, 3365, 2552, 1587, 1198, 911, 1312, 0, 349, 1200, 44, 83, 1299, 18, 825, 396, 258, 187, 415, 48, 194, 166, 0, 222, 10, 113953, 2572, 2, 0, 582, 1, 6624, 142, 2268, 160, 1698, 10034, 0, 25, 162, 80, 1197, 2121, 2, 387, 1471, 8832, 1079, 3356, 8, 1953, 36677, 8733, 22864, 5559, 1272, 240, 13385, 46941, 56, 0, 4, 0, 51, 17, 6048, 349, 2331, 0, 75, 29, 26, 1175, 1459, 0, 121, 23276, 587, 62, 47624, 152, 1347, 117, 7514, 5378, 518, 7, 88, 60, 0, 66, 122, 3894, 16199, 6, 221, 15247, 617, 64170, 21, 299177, 23, 92, 612, 0, 949, 35, 0, 1, 606, 367, 307]\n"
     ]
    }
   ],
   "source": [
    "print(nb1)\n",
    "print(nb2)"
   ]
  },
  {
   "cell_type": "markdown",
   "id": "d14f0cec",
   "metadata": {},
   "source": [
    "<p>On creer un nouveau DataFrame avec la liste des pays,nb1 et nb2. </p>"
   ]
  },
  {
   "cell_type": "code",
   "execution_count": 14,
   "id": "824997d5",
   "metadata": {},
   "outputs": [],
   "source": [
    "df={\n",
    "    \"noms_des_pays\":liste,\n",
    "    \"nombres_de_cas\":nb1,\n",
    "    \"nombres_de_morts\":nb2\n",
    "}"
   ]
  },
  {
   "cell_type": "code",
   "execution_count": 15,
   "id": "51755ccc",
   "metadata": {},
   "outputs": [
    {
     "data": {
      "text/html": [
       "<div>\n",
       "<style scoped>\n",
       "    .dataframe tbody tr th:only-of-type {\n",
       "        vertical-align: middle;\n",
       "    }\n",
       "\n",
       "    .dataframe tbody tr th {\n",
       "        vertical-align: top;\n",
       "    }\n",
       "\n",
       "    .dataframe thead th {\n",
       "        text-align: right;\n",
       "    }\n",
       "</style>\n",
       "<table border=\"1\" class=\"dataframe\">\n",
       "  <thead>\n",
       "    <tr style=\"text-align: right;\">\n",
       "      <th></th>\n",
       "      <th>noms_des_pays</th>\n",
       "      <th>nombres_de_cas</th>\n",
       "      <th>nombres_de_morts</th>\n",
       "    </tr>\n",
       "  </thead>\n",
       "  <tbody>\n",
       "    <tr>\n",
       "      <th>0</th>\n",
       "      <td>Afghanistan</td>\n",
       "      <td>49273</td>\n",
       "      <td>1971</td>\n",
       "    </tr>\n",
       "    <tr>\n",
       "      <th>1</th>\n",
       "      <td>Albania</td>\n",
       "      <td>48530</td>\n",
       "      <td>1003</td>\n",
       "    </tr>\n",
       "    <tr>\n",
       "      <th>2</th>\n",
       "      <td>Algeria</td>\n",
       "      <td>92102</td>\n",
       "      <td>2596</td>\n",
       "    </tr>\n",
       "    <tr>\n",
       "      <th>3</th>\n",
       "      <td>Andorra</td>\n",
       "      <td>7338</td>\n",
       "      <td>79</td>\n",
       "    </tr>\n",
       "    <tr>\n",
       "      <th>4</th>\n",
       "      <td>Angola</td>\n",
       "      <td>16188</td>\n",
       "      <td>371</td>\n",
       "    </tr>\n",
       "    <tr>\n",
       "      <th>...</th>\n",
       "      <td>...</td>\n",
       "      <td>...</td>\n",
       "      <td>...</td>\n",
       "    </tr>\n",
       "    <tr>\n",
       "      <th>209</th>\n",
       "      <td>Wallis_and_Futuna</td>\n",
       "      <td>3</td>\n",
       "      <td>0</td>\n",
       "    </tr>\n",
       "    <tr>\n",
       "      <th>210</th>\n",
       "      <td>Western_Sahara</td>\n",
       "      <td>766</td>\n",
       "      <td>1</td>\n",
       "    </tr>\n",
       "    <tr>\n",
       "      <th>211</th>\n",
       "      <td>Yemen</td>\n",
       "      <td>2083</td>\n",
       "      <td>606</td>\n",
       "    </tr>\n",
       "    <tr>\n",
       "      <th>212</th>\n",
       "      <td>Zambia</td>\n",
       "      <td>18274</td>\n",
       "      <td>367</td>\n",
       "    </tr>\n",
       "    <tr>\n",
       "      <th>213</th>\n",
       "      <td>Zimbabwe</td>\n",
       "      <td>11246</td>\n",
       "      <td>307</td>\n",
       "    </tr>\n",
       "  </tbody>\n",
       "</table>\n",
       "<p>214 rows × 3 columns</p>\n",
       "</div>"
      ],
      "text/plain": [
       "         noms_des_pays  nombres_de_cas  nombres_de_morts\n",
       "0          Afghanistan           49273              1971\n",
       "1              Albania           48530              1003\n",
       "2              Algeria           92102              2596\n",
       "3              Andorra            7338                79\n",
       "4               Angola           16188               371\n",
       "..                 ...             ...               ...\n",
       "209  Wallis_and_Futuna               3                 0\n",
       "210     Western_Sahara             766                 1\n",
       "211              Yemen            2083               606\n",
       "212             Zambia           18274               367\n",
       "213           Zimbabwe           11246               307\n",
       "\n",
       "[214 rows x 3 columns]"
      ]
     },
     "execution_count": 15,
     "metadata": {},
     "output_type": "execute_result"
    }
   ],
   "source": [
    "df=pd.DataFrame(df)\n",
    "df"
   ]
  },
  {
   "cell_type": "markdown",
   "id": "4bc568a8",
   "metadata": {},
   "source": [
    "<p>On trie le nouveau DataFrame selon le nombre de cas et on affiche les 10 premieres lignes.</p>"
   ]
  },
  {
   "cell_type": "code",
   "execution_count": 16,
   "id": "c83b1c94",
   "metadata": {},
   "outputs": [
    {
     "data": {
      "text/html": [
       "<div>\n",
       "<style scoped>\n",
       "    .dataframe tbody tr th:only-of-type {\n",
       "        vertical-align: middle;\n",
       "    }\n",
       "\n",
       "    .dataframe tbody tr th {\n",
       "        vertical-align: top;\n",
       "    }\n",
       "\n",
       "    .dataframe thead th {\n",
       "        text-align: right;\n",
       "    }\n",
       "</style>\n",
       "<table border=\"1\" class=\"dataframe\">\n",
       "  <thead>\n",
       "    <tr style=\"text-align: right;\">\n",
       "      <th></th>\n",
       "      <th>noms_des_pays</th>\n",
       "      <th>nombres_de_cas</th>\n",
       "      <th>nombres_de_morts</th>\n",
       "    </tr>\n",
       "  </thead>\n",
       "  <tbody>\n",
       "    <tr>\n",
       "      <th>202</th>\n",
       "      <td>United_States_of_America</td>\n",
       "      <td>16256754</td>\n",
       "      <td>299177</td>\n",
       "    </tr>\n",
       "    <tr>\n",
       "      <th>92</th>\n",
       "      <td>India</td>\n",
       "      <td>9884100</td>\n",
       "      <td>143355</td>\n",
       "    </tr>\n",
       "    <tr>\n",
       "      <th>27</th>\n",
       "      <td>Brazil</td>\n",
       "      <td>6901952</td>\n",
       "      <td>181402</td>\n",
       "    </tr>\n",
       "    <tr>\n",
       "      <th>160</th>\n",
       "      <td>Russia</td>\n",
       "      <td>2653928</td>\n",
       "      <td>46941</td>\n",
       "    </tr>\n",
       "    <tr>\n",
       "      <th>70</th>\n",
       "      <td>France</td>\n",
       "      <td>2376852</td>\n",
       "      <td>57911</td>\n",
       "    </tr>\n",
       "    <tr>\n",
       "      <th>200</th>\n",
       "      <td>United_Kingdom</td>\n",
       "      <td>1849403</td>\n",
       "      <td>64170</td>\n",
       "    </tr>\n",
       "    <tr>\n",
       "      <th>99</th>\n",
       "      <td>Italy</td>\n",
       "      <td>1843712</td>\n",
       "      <td>64520</td>\n",
       "    </tr>\n",
       "    <tr>\n",
       "      <th>181</th>\n",
       "      <td>Spain</td>\n",
       "      <td>1730575</td>\n",
       "      <td>47624</td>\n",
       "    </tr>\n",
       "    <tr>\n",
       "      <th>7</th>\n",
       "      <td>Argentina</td>\n",
       "      <td>1498160</td>\n",
       "      <td>40766</td>\n",
       "    </tr>\n",
       "    <tr>\n",
       "      <th>43</th>\n",
       "      <td>Colombia</td>\n",
       "      <td>1425774</td>\n",
       "      <td>39053</td>\n",
       "    </tr>\n",
       "  </tbody>\n",
       "</table>\n",
       "</div>"
      ],
      "text/plain": [
       "                noms_des_pays  nombres_de_cas  nombres_de_morts\n",
       "202  United_States_of_America        16256754            299177\n",
       "92                      India         9884100            143355\n",
       "27                     Brazil         6901952            181402\n",
       "160                    Russia         2653928             46941\n",
       "70                     France         2376852             57911\n",
       "200            United_Kingdom         1849403             64170\n",
       "99                      Italy         1843712             64520\n",
       "181                     Spain         1730575             47624\n",
       "7                   Argentina         1498160             40766\n",
       "43                   Colombia         1425774             39053"
      ]
     },
     "execution_count": 16,
     "metadata": {},
     "output_type": "execute_result"
    }
   ],
   "source": [
    "df.sort_values(\"nombres_de_cas\", ascending=False, inplace=True)\n",
    "df.head(10)"
   ]
  },
  {
   "cell_type": "markdown",
   "id": "f3916119",
   "metadata": {},
   "source": [
    "<p>On a ainsi les 10 pays ayant été le plus touché par la pandémie et leur nombres de cas et de deces respectif</p>"
   ]
  },
  {
   "cell_type": "markdown",
   "id": "3495b764",
   "metadata": {},
   "source": [
    "On determine ensuite le taux de mortalité pour chaque pays"
   ]
  },
  {
   "cell_type": "code",
   "execution_count": 17,
   "id": "eb31a8ba",
   "metadata": {},
   "outputs": [
    {
     "data": {
      "text/html": [
       "<div>\n",
       "<style scoped>\n",
       "    .dataframe tbody tr th:only-of-type {\n",
       "        vertical-align: middle;\n",
       "    }\n",
       "\n",
       "    .dataframe tbody tr th {\n",
       "        vertical-align: top;\n",
       "    }\n",
       "\n",
       "    .dataframe thead th {\n",
       "        text-align: right;\n",
       "    }\n",
       "</style>\n",
       "<table border=\"1\" class=\"dataframe\">\n",
       "  <thead>\n",
       "    <tr style=\"text-align: right;\">\n",
       "      <th></th>\n",
       "      <th>noms_des_pays</th>\n",
       "      <th>nombres_de_cas</th>\n",
       "      <th>nombres_de_morts</th>\n",
       "      <th>taux_de_mortalité</th>\n",
       "    </tr>\n",
       "  </thead>\n",
       "  <tbody>\n",
       "    <tr>\n",
       "      <th>202</th>\n",
       "      <td>United_States_of_America</td>\n",
       "      <td>16256754</td>\n",
       "      <td>299177</td>\n",
       "      <td>1.840324</td>\n",
       "    </tr>\n",
       "    <tr>\n",
       "      <th>92</th>\n",
       "      <td>India</td>\n",
       "      <td>9884100</td>\n",
       "      <td>143355</td>\n",
       "      <td>1.450360</td>\n",
       "    </tr>\n",
       "    <tr>\n",
       "      <th>27</th>\n",
       "      <td>Brazil</td>\n",
       "      <td>6901952</td>\n",
       "      <td>181402</td>\n",
       "      <td>2.628271</td>\n",
       "    </tr>\n",
       "    <tr>\n",
       "      <th>160</th>\n",
       "      <td>Russia</td>\n",
       "      <td>2653928</td>\n",
       "      <td>46941</td>\n",
       "      <td>1.768737</td>\n",
       "    </tr>\n",
       "    <tr>\n",
       "      <th>70</th>\n",
       "      <td>France</td>\n",
       "      <td>2376852</td>\n",
       "      <td>57911</td>\n",
       "      <td>2.436458</td>\n",
       "    </tr>\n",
       "    <tr>\n",
       "      <th>...</th>\n",
       "      <td>...</td>\n",
       "      <td>...</td>\n",
       "      <td>...</td>\n",
       "      <td>...</td>\n",
       "    </tr>\n",
       "    <tr>\n",
       "      <th>132</th>\n",
       "      <td>Montserrat</td>\n",
       "      <td>13</td>\n",
       "      <td>1</td>\n",
       "      <td>7.692308</td>\n",
       "    </tr>\n",
       "    <tr>\n",
       "      <th>5</th>\n",
       "      <td>Anguilla</td>\n",
       "      <td>10</td>\n",
       "      <td>0</td>\n",
       "      <td>0.000000</td>\n",
       "    </tr>\n",
       "    <tr>\n",
       "      <th>124</th>\n",
       "      <td>Marshall_Islands</td>\n",
       "      <td>4</td>\n",
       "      <td>0</td>\n",
       "      <td>0.000000</td>\n",
       "    </tr>\n",
       "    <tr>\n",
       "      <th>209</th>\n",
       "      <td>Wallis_and_Futuna</td>\n",
       "      <td>3</td>\n",
       "      <td>0</td>\n",
       "      <td>0.000000</td>\n",
       "    </tr>\n",
       "    <tr>\n",
       "      <th>206</th>\n",
       "      <td>Vanuatu</td>\n",
       "      <td>1</td>\n",
       "      <td>0</td>\n",
       "      <td>0.000000</td>\n",
       "    </tr>\n",
       "  </tbody>\n",
       "</table>\n",
       "<p>214 rows × 4 columns</p>\n",
       "</div>"
      ],
      "text/plain": [
       "                noms_des_pays  nombres_de_cas  nombres_de_morts  \\\n",
       "202  United_States_of_America        16256754            299177   \n",
       "92                      India         9884100            143355   \n",
       "27                     Brazil         6901952            181402   \n",
       "160                    Russia         2653928             46941   \n",
       "70                     France         2376852             57911   \n",
       "..                        ...             ...               ...   \n",
       "132                Montserrat              13                 1   \n",
       "5                    Anguilla              10                 0   \n",
       "124          Marshall_Islands               4                 0   \n",
       "209         Wallis_and_Futuna               3                 0   \n",
       "206                   Vanuatu               1                 0   \n",
       "\n",
       "     taux_de_mortalité  \n",
       "202           1.840324  \n",
       "92            1.450360  \n",
       "27            2.628271  \n",
       "160           1.768737  \n",
       "70            2.436458  \n",
       "..                 ...  \n",
       "132           7.692308  \n",
       "5             0.000000  \n",
       "124           0.000000  \n",
       "209           0.000000  \n",
       "206           0.000000  \n",
       "\n",
       "[214 rows x 4 columns]"
      ]
     },
     "execution_count": 17,
     "metadata": {},
     "output_type": "execute_result"
    }
   ],
   "source": [
    "df[\"taux_de_mortalité\"]=(df[\"nombres_de_morts\"]/df[\"nombres_de_cas\"])*100\n",
    "df"
   ]
  },
  {
   "cell_type": "code",
   "execution_count": 18,
   "id": "83cfbd23",
   "metadata": {},
   "outputs": [],
   "source": [
    "df.sort_values(\"taux_de_mortalité\", ascending=False,inplace=True)"
   ]
  },
  {
   "cell_type": "markdown",
   "id": "08c62e09",
   "metadata": {},
   "source": [
    "Apres trie on obtient"
   ]
  },
  {
   "cell_type": "code",
   "execution_count": 19,
   "id": "ef7c4a4c",
   "metadata": {},
   "outputs": [
    {
     "data": {
      "text/html": [
       "<div>\n",
       "<style scoped>\n",
       "    .dataframe tbody tr th:only-of-type {\n",
       "        vertical-align: middle;\n",
       "    }\n",
       "\n",
       "    .dataframe tbody tr th {\n",
       "        vertical-align: top;\n",
       "    }\n",
       "\n",
       "    .dataframe thead th {\n",
       "        text-align: right;\n",
       "    }\n",
       "</style>\n",
       "<table border=\"1\" class=\"dataframe\">\n",
       "  <thead>\n",
       "    <tr style=\"text-align: right;\">\n",
       "      <th></th>\n",
       "      <th>noms_des_pays</th>\n",
       "      <th>nombres_de_cas</th>\n",
       "      <th>nombres_de_morts</th>\n",
       "      <th>taux_de_mortalité</th>\n",
       "    </tr>\n",
       "  </thead>\n",
       "  <tbody>\n",
       "    <tr>\n",
       "      <th>211</th>\n",
       "      <td>Yemen</td>\n",
       "      <td>2083</td>\n",
       "      <td>606</td>\n",
       "      <td>29.092655</td>\n",
       "    </tr>\n",
       "    <tr>\n",
       "      <th>127</th>\n",
       "      <td>Mexico</td>\n",
       "      <td>1250044</td>\n",
       "      <td>113953</td>\n",
       "      <td>9.115919</td>\n",
       "    </tr>\n",
       "    <tr>\n",
       "      <th>132</th>\n",
       "      <td>Montserrat</td>\n",
       "      <td>13</td>\n",
       "      <td>1</td>\n",
       "      <td>7.692308</td>\n",
       "    </tr>\n",
       "    <tr>\n",
       "      <th>58</th>\n",
       "      <td>Ecuador</td>\n",
       "      <td>202110</td>\n",
       "      <td>13875</td>\n",
       "      <td>6.865073</td>\n",
       "    </tr>\n",
       "    <tr>\n",
       "      <th>97</th>\n",
       "      <td>Isle_of_Man</td>\n",
       "      <td>370</td>\n",
       "      <td>25</td>\n",
       "      <td>6.756757</td>\n",
       "    </tr>\n",
       "    <tr>\n",
       "      <th>183</th>\n",
       "      <td>Sudan</td>\n",
       "      <td>21386</td>\n",
       "      <td>1347</td>\n",
       "      <td>6.298513</td>\n",
       "    </tr>\n",
       "    <tr>\n",
       "      <th>23</th>\n",
       "      <td>Bolivia</td>\n",
       "      <td>147150</td>\n",
       "      <td>9018</td>\n",
       "      <td>6.128440</td>\n",
       "    </tr>\n",
       "    <tr>\n",
       "      <th>40</th>\n",
       "      <td>Chad</td>\n",
       "      <td>1770</td>\n",
       "      <td>102</td>\n",
       "      <td>5.762712</td>\n",
       "    </tr>\n",
       "    <tr>\n",
       "      <th>59</th>\n",
       "      <td>Egypt</td>\n",
       "      <td>121575</td>\n",
       "      <td>6920</td>\n",
       "      <td>5.691960</td>\n",
       "    </tr>\n",
       "    <tr>\n",
       "      <th>187</th>\n",
       "      <td>Syria</td>\n",
       "      <td>9166</td>\n",
       "      <td>518</td>\n",
       "      <td>5.651320</td>\n",
       "    </tr>\n",
       "  </tbody>\n",
       "</table>\n",
       "</div>"
      ],
      "text/plain": [
       "    noms_des_pays  nombres_de_cas  nombres_de_morts  taux_de_mortalité\n",
       "211         Yemen            2083               606          29.092655\n",
       "127        Mexico         1250044            113953           9.115919\n",
       "132    Montserrat              13                 1           7.692308\n",
       "58        Ecuador          202110             13875           6.865073\n",
       "97    Isle_of_Man             370                25           6.756757\n",
       "183         Sudan           21386              1347           6.298513\n",
       "23        Bolivia          147150              9018           6.128440\n",
       "40           Chad            1770               102           5.762712\n",
       "59          Egypt          121575              6920           5.691960\n",
       "187         Syria            9166               518           5.651320"
      ]
     },
     "execution_count": 19,
     "metadata": {},
     "output_type": "execute_result"
    }
   ],
   "source": [
    "df.head(10)"
   ]
  },
  {
   "cell_type": "markdown",
   "id": "d6dea3fe",
   "metadata": {},
   "source": [
    "on a donc les 10 pays avec le taux de mortalité le plus élevé"
   ]
  },
  {
   "cell_type": "markdown",
   "id": "e5d95632",
   "metadata": {},
   "source": [
    "Repetons les memes étapes mais pour les continents cette fois ci."
   ]
  },
  {
   "cell_type": "code",
   "execution_count": 20,
   "id": "7c8ee712",
   "metadata": {},
   "outputs": [
    {
     "data": {
      "text/plain": [
       "array(['Asia', 'Europe', 'Africa', 'America', 'Oceania', 'Other'],\n",
       "      dtype=object)"
      ]
     },
     "execution_count": 20,
     "metadata": {},
     "output_type": "execute_result"
    }
   ],
   "source": [
    "liste2=data[\"continentExp\"]\n",
    "liste2=liste2.drop_duplicates()\n",
    "liste2=np.array(liste2)\n",
    "liste2"
   ]
  },
  {
   "cell_type": "code",
   "execution_count": 21,
   "id": "b4ca741f",
   "metadata": {},
   "outputs": [],
   "source": [
    "nb3=[]\n",
    "nb4=[]\n",
    "for i in liste2:\n",
    "    condition=data[\"continentExp\"]==i\n",
    "    nombre3=np.sum(data[condition].cases)\n",
    "    nombre4=np.sum(data[condition].deaths)\n",
    "    nb3.append(nombre3)\n",
    "    nb4.append(nombre4)\n"
   ]
  },
  {
   "cell_type": "code",
   "execution_count": 22,
   "id": "61b9544c",
   "metadata": {},
   "outputs": [],
   "source": [
    "df2={\n",
    "    \"noms_des_continents\":liste2,\n",
    "    \"nombres_de_cas\":nb3,\n",
    "    \"nombres_de_morts\":nb4\n",
    "}"
   ]
  },
  {
   "cell_type": "code",
   "execution_count": 23,
   "id": "095a694d",
   "metadata": {},
   "outputs": [
    {
     "data": {
      "text/html": [
       "<div>\n",
       "<style scoped>\n",
       "    .dataframe tbody tr th:only-of-type {\n",
       "        vertical-align: middle;\n",
       "    }\n",
       "\n",
       "    .dataframe tbody tr th {\n",
       "        vertical-align: top;\n",
       "    }\n",
       "\n",
       "    .dataframe thead th {\n",
       "        text-align: right;\n",
       "    }\n",
       "</style>\n",
       "<table border=\"1\" class=\"dataframe\">\n",
       "  <thead>\n",
       "    <tr style=\"text-align: right;\">\n",
       "      <th></th>\n",
       "      <th>noms_des_continents</th>\n",
       "      <th>nombres_de_cas</th>\n",
       "      <th>nombres_de_morts</th>\n",
       "      <th>taux_de_mortalité</th>\n",
       "    </tr>\n",
       "  </thead>\n",
       "  <tbody>\n",
       "    <tr>\n",
       "      <th>0</th>\n",
       "      <td>Asia</td>\n",
       "      <td>16782046</td>\n",
       "      <td>290129</td>\n",
       "      <td>1.728806</td>\n",
       "    </tr>\n",
       "    <tr>\n",
       "      <th>1</th>\n",
       "      <td>Europe</td>\n",
       "      <td>21400012</td>\n",
       "      <td>479789</td>\n",
       "      <td>2.242003</td>\n",
       "    </tr>\n",
       "    <tr>\n",
       "      <th>2</th>\n",
       "      <td>Africa</td>\n",
       "      <td>2379827</td>\n",
       "      <td>56334</td>\n",
       "      <td>2.367147</td>\n",
       "    </tr>\n",
       "    <tr>\n",
       "      <th>3</th>\n",
       "      <td>America</td>\n",
       "      <td>30887593</td>\n",
       "      <td>785420</td>\n",
       "      <td>2.542833</td>\n",
       "    </tr>\n",
       "    <tr>\n",
       "      <th>4</th>\n",
       "      <td>Oceania</td>\n",
       "      <td>53440</td>\n",
       "      <td>1154</td>\n",
       "      <td>2.159431</td>\n",
       "    </tr>\n",
       "    <tr>\n",
       "      <th>5</th>\n",
       "      <td>Other</td>\n",
       "      <td>696</td>\n",
       "      <td>7</td>\n",
       "      <td>1.005747</td>\n",
       "    </tr>\n",
       "  </tbody>\n",
       "</table>\n",
       "</div>"
      ],
      "text/plain": [
       "  noms_des_continents  nombres_de_cas  nombres_de_morts  taux_de_mortalité\n",
       "0                Asia        16782046            290129           1.728806\n",
       "1              Europe        21400012            479789           2.242003\n",
       "2              Africa         2379827             56334           2.367147\n",
       "3             America        30887593            785420           2.542833\n",
       "4             Oceania           53440              1154           2.159431\n",
       "5               Other             696                 7           1.005747"
      ]
     },
     "execution_count": 23,
     "metadata": {},
     "output_type": "execute_result"
    }
   ],
   "source": [
    "df2=pd.DataFrame(df2)\n",
    "df2[\"taux_de_mortalité\"]=(df2[\"nombres_de_morts\"]/df2[\"nombres_de_cas\"])*100\n",
    "df2"
   ]
  },
  {
   "cell_type": "code",
   "execution_count": 24,
   "id": "cc767818",
   "metadata": {},
   "outputs": [],
   "source": [
    "df2.sort_values([\"nombres_de_cas\",\"nombres_de_morts\",\"taux_de_mortalité\"],ascending=False,inplace=True)"
   ]
  },
  {
   "cell_type": "code",
   "execution_count": 25,
   "id": "5abbc899",
   "metadata": {},
   "outputs": [
    {
     "data": {
      "text/html": [
       "<div>\n",
       "<style scoped>\n",
       "    .dataframe tbody tr th:only-of-type {\n",
       "        vertical-align: middle;\n",
       "    }\n",
       "\n",
       "    .dataframe tbody tr th {\n",
       "        vertical-align: top;\n",
       "    }\n",
       "\n",
       "    .dataframe thead th {\n",
       "        text-align: right;\n",
       "    }\n",
       "</style>\n",
       "<table border=\"1\" class=\"dataframe\">\n",
       "  <thead>\n",
       "    <tr style=\"text-align: right;\">\n",
       "      <th></th>\n",
       "      <th>noms_des_continents</th>\n",
       "      <th>nombres_de_cas</th>\n",
       "      <th>nombres_de_morts</th>\n",
       "      <th>taux_de_mortalité</th>\n",
       "    </tr>\n",
       "  </thead>\n",
       "  <tbody>\n",
       "    <tr>\n",
       "      <th>3</th>\n",
       "      <td>America</td>\n",
       "      <td>30887593</td>\n",
       "      <td>785420</td>\n",
       "      <td>2.542833</td>\n",
       "    </tr>\n",
       "    <tr>\n",
       "      <th>1</th>\n",
       "      <td>Europe</td>\n",
       "      <td>21400012</td>\n",
       "      <td>479789</td>\n",
       "      <td>2.242003</td>\n",
       "    </tr>\n",
       "    <tr>\n",
       "      <th>0</th>\n",
       "      <td>Asia</td>\n",
       "      <td>16782046</td>\n",
       "      <td>290129</td>\n",
       "      <td>1.728806</td>\n",
       "    </tr>\n",
       "    <tr>\n",
       "      <th>2</th>\n",
       "      <td>Africa</td>\n",
       "      <td>2379827</td>\n",
       "      <td>56334</td>\n",
       "      <td>2.367147</td>\n",
       "    </tr>\n",
       "    <tr>\n",
       "      <th>4</th>\n",
       "      <td>Oceania</td>\n",
       "      <td>53440</td>\n",
       "      <td>1154</td>\n",
       "      <td>2.159431</td>\n",
       "    </tr>\n",
       "    <tr>\n",
       "      <th>5</th>\n",
       "      <td>Other</td>\n",
       "      <td>696</td>\n",
       "      <td>7</td>\n",
       "      <td>1.005747</td>\n",
       "    </tr>\n",
       "  </tbody>\n",
       "</table>\n",
       "</div>"
      ],
      "text/plain": [
       "  noms_des_continents  nombres_de_cas  nombres_de_morts  taux_de_mortalité\n",
       "3             America        30887593            785420           2.542833\n",
       "1              Europe        21400012            479789           2.242003\n",
       "0                Asia        16782046            290129           1.728806\n",
       "2              Africa         2379827             56334           2.367147\n",
       "4             Oceania           53440              1154           2.159431\n",
       "5               Other             696                 7           1.005747"
      ]
     },
     "execution_count": 25,
     "metadata": {},
     "output_type": "execute_result"
    }
   ],
   "source": [
    "df2"
   ]
  },
  {
   "cell_type": "markdown",
   "id": "b46822f8",
   "metadata": {},
   "source": [
    "On obtient pour chaque continent le <b>nombre de cas</b>, de <b>morts</b> et le <b>taux de mortalité</b> .\n",
    "A travers ces resultats on peut remarqué qu'en dépis de sa tres forte population, l'<b>Asie</b> a enregistrer l'un des taux de mortalité les plus bas.Cela peut traduire une meilleure gestion de la pandémie par les pays touuché dans ce continent."
   ]
  },
  {
   "cell_type": "markdown",
   "id": "2530d076",
   "metadata": {},
   "source": [
    "Maintenant étudions l'evolution des cas et des morts dans le temps suivant les mois de l'année.\n",
    "Pour proceder a cette étude pour chaque pays nous procéderons par une fonction qui prendra en parametre le nom du pays et nous prendrons l'exemple du <b>Canada</b> du <b>Japon</b> du <b>Bresil</b> et de la<b>France.</b> "
   ]
  },
  {
   "cell_type": "code",
   "execution_count": 26,
   "id": "cf562c97",
   "metadata": {},
   "outputs": [],
   "source": [
    "def tendance(pays):\n",
    "    condition=data[\"countriesAndTerritories\"]==pays #filtrage de la data suivant le pays\n",
    "    data2=data[condition][[\"month\",\"cases\",\"deaths\",\"countriesAndTerritories\"]] # ciblage des colonnes concernées\n",
    "    # creation d'un dataframe contenant:mois,nb de cas,nb de morts,\n",
    "    months=[1,2,3,4,5,6,7,8,9,10,11,12]\n",
    "    tab1=[]\n",
    "    tab2=[]\n",
    "    for i in months:\n",
    "        condition=data2[\"month\"]==i\n",
    "        num1=np.sum(data2[condition].cases)\n",
    "        num2=np.sum(data2[condition].deaths)\n",
    "        tab1.append(num1)\n",
    "        tab2.append(num2)\n",
    "    tmp={\n",
    "        \"mois\":months,\n",
    "        \"nb_cas\":tab1,\n",
    "        \"nb_deces\":tab2\n",
    "    }\n",
    "    tmp=pd.DataFrame(tmp)\n",
    "    #visualisation des données\n",
    "    #suivant le nombres de cas\n",
    "    plt.figure(figsize=(10, 4))\n",
    "    sns.lineplot(x=months, y=tab1, data=tmp, marker='o', color='red') #en rouge\n",
    "    plt.title(\"evolution du nombre de cas par mois\")\n",
    "    plt.xlabel(\"mois\")\n",
    "    plt.ylabel(\"nombres de cas\")\n",
    "    plt.show()\n",
    "    #suivant le nombre de deces\n",
    "    plt.figure(figsize=(10, 6))\n",
    "    sns.lineplot(x=months, y=tab2, data=tmp, marker='o', color='blue') #en blue\n",
    "    plt.title(\"evolution du nombre de deces par mois\")\n",
    "    plt.xlabel(\"mois\")\n",
    "    plt.ylabel(\"nombres de deces\")\n",
    "    plt.show()"
   ]
  },
  {
   "cell_type": "markdown",
   "id": "7d4b7f8d",
   "metadata": {},
   "source": [
    "<h3>Exemples</h3>"
   ]
  },
  {
   "cell_type": "markdown",
   "id": "79d09a4c",
   "metadata": {},
   "source": [
    "<h4>Canada</h4>"
   ]
  },
  {
   "cell_type": "code",
   "execution_count": 27,
   "id": "394032f6",
   "metadata": {},
   "outputs": [
    {
     "data": {
      "image/png": "[encoded data removed]",
      "text/plain": [
       "<Figure size 1000x400 with 1 Axes>"
      ]
     },
     "metadata": {},
     "output_type": "display_data"
    },
    {
     "data": {
      "image/png": "[encoded data removed]",
      "text/plain": [
       "<Figure size 1000x600 with 1 Axes>"
      ]
     },
     "metadata": {},
     "output_type": "display_data"
    }
   ],
   "source": [
    "tendance(\"Canada\")"
   ]
  },
  {
   "cell_type": "markdown",
   "id": "4f115d0f",
   "metadata": {},
   "source": [
    "<h4>France</h4>"
   ]
  },
  {
   "cell_type": "code",
   "execution_count": 28,
   "id": "0c832c12",
   "metadata": {},
   "outputs": [
    {
     "data": {
      "image/png": "[encoded data removed]",
      "text/plain": [
       "<Figure size 1000x400 with 1 Axes>"
      ]
     },
     "metadata": {},
     "output_type": "display_data"
    },
    {
     "data": {
      "image/png": "[encoded data removed]",
      "text/plain": [
       "<Figure size 1000x600 with 1 Axes>"
      ]
     },
     "metadata": {},
     "output_type": "display_data"
    }
   ],
   "source": [
    "tendance(\"France\")"
   ]
  },
  {
   "cell_type": "markdown",
   "id": "c3a90fe3",
   "metadata": {},
   "source": [
    "<h4>Brésil</h4>"
   ]
  },
  {
   "cell_type": "code",
   "execution_count": 29,
   "id": "4930521a",
   "metadata": {},
   "outputs": [
    {
     "data": {
      "image/png": "[encoded data removed]",
      "text/plain": [
       "<Figure size 1000x400 with 1 Axes>"
      ]
     },
     "metadata": {},
     "output_type": "display_data"
    },
    {
     "data": {
      "image/png": "[encoded data removed]",
      "text/plain": [
       "<Figure size 1000x600 with 1 Axes>"
      ]
     },
     "metadata": {},
     "output_type": "display_data"
    }
   ],
   "source": [
    "tendance(\"Brazil\")"
   ]
  },
  {
   "cell_type": "markdown",
   "id": "ffd45cc8",
   "metadata": {},
   "source": [
    "<h3>Existe t'il une corrélation entre le nombre de cas et le nombre de deces?</h3>\n",
    "<p>c'est la question a la quelle nous essayerons de repondre ici,a travers 2 graphes: une <b>HeatMap</b> et un <b>Scatter Plot</b>"
   ]
  },
  {
   "cell_type": "code",
   "execution_count": 30,
   "id": "0418510d",
   "metadata": {},
   "outputs": [
    {
     "data": {
      "image/png": "[encoded data removed]",
      "text/plain": [
       "<Figure size 1000x800 with 2 Axes>"
      ]
     },
     "metadata": {},
     "output_type": "display_data"
    },
    {
     "data": {
      "image/png": "[encoded data removed]",
      "text/plain": [
       "<Figure size 800x600 with 1 Axes>"
      ]
     },
     "metadata": {},
     "output_type": "display_data"
    }
   ],
   "source": [
    "#HeatMap\n",
    "plt.figure(figsize=(10, 8))\n",
    "sns.heatmap(data[[\"deaths\",\"cases\"]].corr(), annot=True, cmap='coolwarm', fmt=\".2f\")\n",
    "plt.title(\"heatmap\")\n",
    "plt.show()\n",
    "#Scatter Plot(nuage de points)\n",
    "plt.figure(figsize=(8, 6))\n",
    "sns.scatterplot(x=\"deaths\", y=\"cases\", data=data, color='green')\n",
    "plt.title(\"correlation\")\n",
    "plt.xlabel(\"deaths\")\n",
    "plt.ylabel(\"cases\")\n",
    "plt.show()\n"
   ]
  },
  {
   "cell_type": "markdown",
   "id": "a0dc5876",
   "metadata": {},
   "source": [
    "<p>On arrive a le conclusion que oui,il existe une correlation assez forte entre le nombre de cas de maladie et le nombre de deces avec un coefficient de correlation de: <b>0,74</b></p>"
   ]
  },
  {
   "cell_type": "markdown",
   "id": "9d6db04d",
   "metadata": {},
   "source": [
    "<h2>Conclusion</h2>"
   ]
  },
  {
   "cell_type": "markdown",
   "id": "ccd3cf45",
   "metadata": {},
   "source": [
    "<p>On conclusion on pourra dire que la repartition de la pandémie par pays et par continent,évaluer quel a été son ampleur et suivre son évolution dansle temps. Néanmoin,si nous possédions les données relative au periode confinement durant l'année 2020 dans chaque pays cela nous aurais permis d'étudier l'impact du confinement sur la propagation de la maladie,ce qui aurais enrichie d'avantage notre travail.</p>"
   ]
  },
  {
   "cell_type": "code",
   "execution_count": null,
   "id": "f193de1f",
   "metadata": {},
   "outputs": [],
   "source": []
  }
 ],
 "metadata": {
  "kernelspec": {
   "display_name": "Python 3 (ipykernel)",
   "language": "python",
   "name": "python3"
  },
  "language_info": {
   "codemirror_mode": {
    "name": "ipython",
    "version": 3
   },
   "file_extension": ".py",
   "mimetype": "text/x-python",
   "name": "python",
   "nbconvert_exporter": "python",
   "pygments_lexer": "ipython3",
   "version": "3.11.5"
  }
 },
 "nbformat": 4,
 "nbformat_minor": 5
}
